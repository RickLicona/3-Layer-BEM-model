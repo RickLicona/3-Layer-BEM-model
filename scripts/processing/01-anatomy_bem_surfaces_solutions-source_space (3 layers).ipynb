{
 "cells": [
  {
   "cell_type": "code",
   "execution_count": 1,
   "metadata": {
    "pycharm": {
     "is_executing": true
    }
   },
   "outputs": [],
   "source": [
    "import os.path as op\n",
    "import mne\n",
    "from scripts.processing.library.config import study_path, subjects_dir, N_JOBS, spacing\n",
    "%matplotlib inline    "
   ]
  },
  {
   "cell_type": "code",
   "execution_count": null,
   "metadata": {},
   "outputs": [],
   "source": [
    "def run_bem(subject_id):\n",
    "    subject = \"sub%03d\" % subject_id\n",
    "    print(subject)\n",
    "    subjects_dir = op.join(study_path, 'subjects')\n",
    "    print(subjects_dir)\n",
    "    \n",
    "    #BEM ESTIMATION\n",
    "    conductivity = (0.3, 0.006, 0.3)  # for three layer (EEG)\n",
    "\n",
    "    # BEM MODEL FILE\n",
    "    fname_bem_surfaces = op.join(subjects_dir, subject, 'bem',\n",
    "                                     '%s-5120-bem-3layers.fif' % (subject))\n",
    "    # BEM SOLUTION FILE\n",
    "    fname_bem = op.join(subjects_dir, subject, 'bem', \n",
    "                    '%s-5120-bem-sol-3layers.fif' % (subject))\n",
    "    # CHECK UBICATION OF THE FILES\n",
    "\n",
    "    print(fname_bem_surfaces)\n",
    "    print(fname_bem)\n",
    "    \n",
    "\n",
    "    \n",
    "    try:\n",
    "        if not op.isfile(fname_bem_surfaces):\n",
    "            #WRITE BEM SURFACES\n",
    "            print(\"\\nWRITING BEM SURFACES...\")        \n",
    "            model = mne.make_bem_model(subject=subject, ico=4,\n",
    "                                       conductivity=conductivity,\n",
    "                                       subjects_dir=subjects_dir)\n",
    "           \n",
    "            mne.write_bem_surfaces(fname_bem_surfaces, model)\n",
    "\n",
    "        if not op.isfile(fname_bem):\n",
    "            # WRITE BEM SOLUTION\n",
    "            bem_model = mne.read_bem_surfaces(fname_bem_surfaces)\n",
    "            print(\"\\n***************MAKING BEM SOLUTION...\")\n",
    "            bem = mne.make_bem_solution(bem_model)\n",
    "            print(\"\\n***************WRITING BEM SOLUTION...\")\n",
    "            mne.write_bem_solution(fname_bem, bem)\n",
    "        \n",
    "        # Create the surface source space\n",
    "        print(\"\\n***************CREATING SOURCE SPACE...\")\n",
    "        fname_src = op.join(subjects_dir, subject, 'bem', '%s-%s-EEG-src.fif'\n",
    "                        % (subject, spacing))\n",
    "        if not op.isfile(fname_src):\n",
    "            print('  Setting up source space')\n",
    "            src = mne.setup_source_space(subject, spacing,\n",
    "                                     subjects_dir=subjects_dir)\n",
    "            mne.write_source_spaces(fname_src, src)\n",
    "        print(\"\\n---------------READY--------------------\")\n",
    "    except:\n",
    "        return 1\n"
   ]
  },
  {
   "cell_type": "code",
   "execution_count": null,
   "metadata": {},
   "outputs": [],
   "source": [
    "subject_id = 2\n",
    "bad_subjects_3_layers = []\n",
    "good_subjects_3_layers = []\n",
    "\n",
    "while subject_id < 19:\n",
    "    salida = run_bem(subject_id)\n",
    "    print(\"\\n************ OUT: \", salida)\n",
    "    if salida == 1:\n",
    "        print(\"\\n---------------------PROBLEM WITH SUBJECT: \",subject_id)\n",
    "        bad_subjects_3_layers.append(subject_id)\n",
    "        subject_id+=1\n",
    "    else:\n",
    "        print(\"\\n---------------------NO PROBLEM WITH SUBJECT: \", subject_id)\n",
    "        good_subjects_3_layers.append(subject_id)\n",
    "        subject_id+=1\n",
    "\n",
    "# TENER EN CUENTA ESTAS SALIDAS PARA FORWARD\n",
    "print(\"\\n\\nBAD SUBJECTS FOR 3 LAYERS (EEG): \", bad_subjects_3_layers)\n",
    "print(\"\\n\\nGOOD SUBJECTS FOR 3 LAYERS (EEG): \", good_subjects_3_layers)"
   ]
  },
  {
   "cell_type": "markdown",
   "metadata": {},
   "source": [
    "## CASO SUBJECT 7"
   ]
  },
  {
   "cell_type": "code",
   "execution_count": null,
   "metadata": {},
   "outputs": [],
   "source": [
    "run_bem(subject_id=7)"
   ]
  },
  {
   "cell_type": "markdown",
   "metadata": {},
   "source": [
    "## <font color=\"red\">ERRORES A CONSIDERAR (verlos en check_surfaces!)</font>"
   ]
  },
  {
   "cell_type": "markdown",
   "metadata": {},
   "source": [
    "ERROR: Checking that outer skull surface is inside outer skin  surface...\n",
    "\n",
    "RuntimeError: Surface outer skull is not completely inside surface outer skin "
   ]
  },
  {
   "cell_type": "markdown",
   "metadata": {},
   "source": [
    "## CASO SUBJECT 9"
   ]
  },
  {
   "cell_type": "code",
   "execution_count": null,
   "metadata": {},
   "outputs": [],
   "source": [
    "run_bem(subject_id=9)"
   ]
  },
  {
   "cell_type": "code",
   "execution_count": null,
   "metadata": {},
   "outputs": [],
   "source": [
    "run_bem(subject_id=10)"
   ]
  },
  {
   "cell_type": "code",
   "execution_count": null,
   "metadata": {},
   "outputs": [],
   "source": []
  }
 ],
 "metadata": {
  "kernelspec": {
   "display_name": "Python 3",
   "language": "python",
   "name": "python3"
  },
  "language_info": {
   "codemirror_mode": {
    "name": "ipython",
    "version": 3
   },
   "file_extension": ".py",
   "mimetype": "text/x-python",
   "name": "python",
   "nbconvert_exporter": "python",
   "pygments_lexer": "ipython3",
   "version": "3.7.9"
  }
 },
 "nbformat": 4,
 "nbformat_minor": 1
}