{
 "cells": [
  {
   "cell_type": "code",
   "execution_count": 1,
   "metadata": {},
   "outputs": [],
   "source": [
    "import os.path as op\n",
    "import mne\n",
    "from scripts.processing.library.config import (study_path, meg_dir, subjects_dir, spacing, N_JOBS,\n",
    "                                            mindist, l_freq)\n",
    "#BAD SUBJECTS FOR 3 LAYERS (EEG):  [3, 4, 5, 7, 8, 9, 10, 11, 12, 13, 15, 16, 17]\n",
    "#GOOD SUBJECTS FOR 3 LAYERS (EEG):  [2, 6, 14, 18]\n",
    "\n",
    "#subject_EEG_layers = [2, 14, 18]\n",
    "subject_EEG_layers = [9]\n"
   ]
  },
  {
   "cell_type": "code",
   "execution_count": 6,
   "metadata": {},
   "outputs": [],
   "source": [
    "def run_forward(subject_id):\n",
    "    subject = \"sub%03d\" % subject_id\n",
    "    print(\"processing subject: %s\" % subject)\n",
    "    data_path = op.join(meg_dir, subject)\n",
    "\n",
    "    fname_ave = op.join(data_path,\n",
    "                        '%s_highpass-%sHz-ave.fif' % (subject, l_freq))\n",
    "    fname_fwd = op.join(data_path, '%s-meg-EEG-%s-fwd.fif'\n",
    "                        % (subject, spacing)) #CHANGED TO %s-meg-EEG-%s-fwd.fif' \n",
    "    fname_trans = op.join(study_path, 'ds117', subject, 'MEG',\n",
    "                          '%s-trans.fif' % subject)\n",
    "    #fname_src = op.join(subjects_dir, subject, 'bem', '%s-%s-EEG-src.fif'\n",
    "    #                    % (subject, spacing)) # OCT 6, #CHANGED TO %s-%s-EEG-src.fif \n",
    "    fname_src = op.join(subjects_dir, subject, 'bem', '%s-%s-src.fif'\n",
    "                        % (subject, spacing))\n",
    "    print(\"FNAME SRC: \", fname_src)\n",
    "    # Here we only use 1-layer BEM because the 3-layer is unreliable\n",
    "    fname_bem = op.join(subjects_dir, subject, 'bem', \n",
    "                        '%s-5120-bem-sol-3layers.fif' % subject)\n",
    "    \n",
    "    info = mne.io.read_info(fname_ave)\n",
    "    # Because we use a 3-layer BEM, we do EEG only\n",
    "    fwd = mne.make_forward_solution(info, fname_trans, fname_src, fname_bem,\n",
    "                                    meg=False, eeg=True, mindist=mindist)\n",
    "    mne.write_forward_solution(fname_fwd, fwd, overwrite=True)\n",
    "    print(\"----------------- READY FOR SUBJECT: \", subject)"
   ]
  },
  {
   "cell_type": "code",
   "execution_count": 7,
   "metadata": {},
   "outputs": [
    {
     "name": "stdout",
     "output_type": "stream",
     "text": [
      "processing subject: sub009\n",
      "FNAME SRC:  /Users/ricklicona/Documents/GitHub/mne-biomag-group-demo/scripts/processing/library/../../../subjects/sub009/bem/sub009-oct6-src.fif\n",
      "    Read a total of 1 projection items:\n",
      "        Average EEG reference (1 x 70) active\n",
      "Source space          : /Users/ricklicona/Documents/GitHub/mne-biomag-group-demo/scripts/processing/library/../../../subjects/sub009/bem/sub009-oct6-src.fif\n",
      "MRI -> head transform : /Users/ricklicona/Documents/GitHub/mne-biomag-group-demo/scripts/processing/library/../../../ds117/sub009/MEG/sub009-trans.fif\n",
      "Measurement data      : instance of Info\n",
      "Conductor model   : /Users/ricklicona/Documents/GitHub/mne-biomag-group-demo/scripts/processing/library/../../../subjects/sub009/bem/sub009-5120-bem-sol-3layers.fif\n",
      "Accurate field computations\n",
      "Do computations in head coordinates\n",
      "Free source orientations\n",
      "\n",
      "Reading /Users/ricklicona/Documents/GitHub/mne-biomag-group-demo/scripts/processing/library/../../../subjects/sub009/bem/sub009-oct6-src.fif...\n",
      "Read 2 source spaces a total of 8196 active source locations\n",
      "\n",
      "Coordinate transformation: MRI (surface RAS) -> head\n",
      "     0.995420 -0.035724  0.088669       2.85 mm\n",
      "     0.010927  0.963991  0.265710      37.85 mm\n",
      "    -0.094969 -0.263524  0.959967      45.35 mm\n",
      "     0.000000  0.000000  0.000000       1.00\n",
      "\n",
      "Read  70 EEG channels from info\n",
      "Head coordinate coil definitions created.\n",
      "Source spaces are now in head coordinates.\n",
      "\n",
      "Setting up the BEM model using /Users/ricklicona/Documents/GitHub/mne-biomag-group-demo/scripts/processing/library/../../../subjects/sub009/bem/sub009-5120-bem-sol-3layers.fif...\n",
      "\n"
     ]
    },
    {
     "ename": "FileNotFoundError",
     "evalue": "fname \"/Users/ricklicona/Documents/GitHub/mne-biomag-group-demo/scripts/processing/library/../../../subjects/sub009/bem/sub009-5120-bem-sol-3layers.fif\" does not exist",
     "output_type": "error",
     "traceback": [
      "\u001b[0;31m---------------------------------------------------------------------------\u001b[0m",
      "\u001b[0;31mFileNotFoundError\u001b[0m                         Traceback (most recent call last)",
      "\u001b[0;32m<ipython-input-7-458aada4f51e>\u001b[0m in \u001b[0;36m<module>\u001b[0;34m()\u001b[0m\n\u001b[1;32m      1\u001b[0m \u001b[0;32mfor\u001b[0m \u001b[0msubject\u001b[0m \u001b[0;32min\u001b[0m \u001b[0mrange\u001b[0m\u001b[0;34m(\u001b[0m\u001b[0;36m0\u001b[0m\u001b[0;34m,\u001b[0m \u001b[0mlen\u001b[0m\u001b[0;34m(\u001b[0m\u001b[0msubject_EEG_layers\u001b[0m\u001b[0;34m)\u001b[0m\u001b[0;34m)\u001b[0m\u001b[0;34m:\u001b[0m\u001b[0;34m\u001b[0m\u001b[0m\n\u001b[0;32m----> 2\u001b[0;31m     \u001b[0msalida\u001b[0m \u001b[0;34m=\u001b[0m \u001b[0mrun_forward\u001b[0m\u001b[0;34m(\u001b[0m\u001b[0msubject_EEG_layers\u001b[0m\u001b[0;34m[\u001b[0m\u001b[0msubject\u001b[0m\u001b[0;34m]\u001b[0m\u001b[0;34m)\u001b[0m\u001b[0;34m\u001b[0m\u001b[0m\n\u001b[0m\u001b[1;32m      3\u001b[0m \u001b[0;34m\u001b[0m\u001b[0m\n",
      "\u001b[0;32m<ipython-input-6-c367a1043b26>\u001b[0m in \u001b[0;36mrun_forward\u001b[0;34m(subject_id)\u001b[0m\n\u001b[1;32m     22\u001b[0m     \u001b[0;31m# Because we use a 3-layer BEM, we do EEG only\u001b[0m\u001b[0;34m\u001b[0m\u001b[0;34m\u001b[0m\u001b[0m\n\u001b[1;32m     23\u001b[0m     fwd = mne.make_forward_solution(info, fname_trans, fname_src, fname_bem,\n\u001b[0;32m---> 24\u001b[0;31m                                     meg=False, eeg=True, mindist=mindist)\n\u001b[0m\u001b[1;32m     25\u001b[0m     \u001b[0mmne\u001b[0m\u001b[0;34m.\u001b[0m\u001b[0mwrite_forward_solution\u001b[0m\u001b[0;34m(\u001b[0m\u001b[0mfname_fwd\u001b[0m\u001b[0;34m,\u001b[0m \u001b[0mfwd\u001b[0m\u001b[0;34m,\u001b[0m \u001b[0moverwrite\u001b[0m\u001b[0;34m=\u001b[0m\u001b[0;32mTrue\u001b[0m\u001b[0;34m)\u001b[0m\u001b[0;34m\u001b[0m\u001b[0m\n\u001b[1;32m     26\u001b[0m     \u001b[0mprint\u001b[0m\u001b[0;34m(\u001b[0m\u001b[0;34m\"----------------- READY FOR SUBJECT: \"\u001b[0m\u001b[0;34m,\u001b[0m \u001b[0msubject\u001b[0m\u001b[0;34m)\u001b[0m\u001b[0;34m\u001b[0m\u001b[0m\n",
      "\u001b[0;32m<decorator-gen-292>\u001b[0m in \u001b[0;36mmake_forward_solution\u001b[0;34m(info, trans, src, bem, meg, eeg, mindist, ignore_ref, n_jobs, verbose)\u001b[0m\n",
      "\u001b[0;32m/Users/ricklicona/PycharmProjects/RExam/lib/python3.6/site-packages/mne/forward/_make_forward.py\u001b[0m in \u001b[0;36mmake_forward_solution\u001b[0;34m(info, trans, src, bem, meg, eeg, mindist, ignore_ref, n_jobs, verbose)\u001b[0m\n\u001b[1;32m    592\u001b[0m         update_kwargs, bem = _prepare_for_forward(\n\u001b[1;32m    593\u001b[0m             \u001b[0msrc\u001b[0m\u001b[0;34m,\u001b[0m \u001b[0mmri_head_t\u001b[0m\u001b[0;34m,\u001b[0m \u001b[0minfo\u001b[0m\u001b[0;34m,\u001b[0m \u001b[0mbem\u001b[0m\u001b[0;34m,\u001b[0m \u001b[0mmindist\u001b[0m\u001b[0;34m,\u001b[0m \u001b[0mn_jobs\u001b[0m\u001b[0;34m,\u001b[0m \u001b[0mbem_extra\u001b[0m\u001b[0;34m,\u001b[0m \u001b[0mtrans\u001b[0m\u001b[0;34m,\u001b[0m\u001b[0;34m\u001b[0m\u001b[0m\n\u001b[0;32m--> 594\u001b[0;31m             info_extra, meg, eeg, ignore_ref)\n\u001b[0m\u001b[1;32m    595\u001b[0m     del (src, mri_head_t, trans, info_extra, bem_extra, mindist,\n\u001b[1;32m    596\u001b[0m          meg, eeg, ignore_ref)\n",
      "\u001b[0;32m<decorator-gen-291>\u001b[0m in \u001b[0;36m_prepare_for_forward\u001b[0;34m(src, mri_head_t, info, bem, mindist, n_jobs, bem_extra, trans, info_extra, meg, eeg, ignore_ref, allow_bem_none, verbose)\u001b[0m\n",
      "\u001b[0;32m/Users/ricklicona/PycharmProjects/RExam/lib/python3.6/site-packages/mne/forward/_make_forward.py\u001b[0m in \u001b[0;36m_prepare_for_forward\u001b[0;34m(src, mri_head_t, info, bem, mindist, n_jobs, bem_extra, trans, info_extra, meg, eeg, ignore_ref, allow_bem_none, verbose)\u001b[0m\n\u001b[1;32m    482\u001b[0m     \u001b[0;31m# Prepare the BEM model\u001b[0m\u001b[0;34m\u001b[0m\u001b[0;34m\u001b[0m\u001b[0m\n\u001b[1;32m    483\u001b[0m     bem = _setup_bem(bem, bem_extra, len(eegnames), mri_head_t,\n\u001b[0;32m--> 484\u001b[0;31m                      allow_none=allow_bem_none)\n\u001b[0m\u001b[1;32m    485\u001b[0m \u001b[0;34m\u001b[0m\u001b[0m\n\u001b[1;32m    486\u001b[0m     \u001b[0;31m# Circumvent numerical problems by excluding points too close to the skull\u001b[0m\u001b[0;34m\u001b[0m\u001b[0;34m\u001b[0m\u001b[0m\n",
      "\u001b[0;32m<decorator-gen-288>\u001b[0m in \u001b[0;36m_setup_bem\u001b[0;34m(bem, bem_extra, neeg, mri_head_t, allow_none, verbose)\u001b[0m\n",
      "\u001b[0;32m/Users/ricklicona/PycharmProjects/RExam/lib/python3.6/site-packages/mne/forward/_make_forward.py\u001b[0m in \u001b[0;36m_setup_bem\u001b[0;34m(bem, bem_extra, neeg, mri_head_t, allow_none, verbose)\u001b[0m\n\u001b[1;32m    233\u001b[0m     \u001b[0;32mif\u001b[0m \u001b[0misinstance\u001b[0m\u001b[0;34m(\u001b[0m\u001b[0mbem\u001b[0m\u001b[0;34m,\u001b[0m \u001b[0mstr\u001b[0m\u001b[0;34m)\u001b[0m\u001b[0;34m:\u001b[0m\u001b[0;34m\u001b[0m\u001b[0m\n\u001b[1;32m    234\u001b[0m         \u001b[0mlogger\u001b[0m\u001b[0;34m.\u001b[0m\u001b[0minfo\u001b[0m\u001b[0;34m(\u001b[0m\u001b[0;34m'Setting up the BEM model using %s...\\n'\u001b[0m \u001b[0;34m%\u001b[0m \u001b[0mbem_extra\u001b[0m\u001b[0;34m)\u001b[0m\u001b[0;34m\u001b[0m\u001b[0m\n\u001b[0;32m--> 235\u001b[0;31m         \u001b[0mbem\u001b[0m \u001b[0;34m=\u001b[0m \u001b[0mread_bem_solution\u001b[0m\u001b[0;34m(\u001b[0m\u001b[0mbem\u001b[0m\u001b[0;34m)\u001b[0m\u001b[0;34m\u001b[0m\u001b[0m\n\u001b[0m\u001b[1;32m    236\u001b[0m     \u001b[0;32melse\u001b[0m\u001b[0;34m:\u001b[0m\u001b[0;34m\u001b[0m\u001b[0m\n\u001b[1;32m    237\u001b[0m         \u001b[0;32mif\u001b[0m \u001b[0;32mnot\u001b[0m \u001b[0misinstance\u001b[0m\u001b[0;34m(\u001b[0m\u001b[0mbem\u001b[0m\u001b[0;34m,\u001b[0m \u001b[0mConductorModel\u001b[0m\u001b[0;34m)\u001b[0m\u001b[0;34m:\u001b[0m\u001b[0;34m\u001b[0m\u001b[0m\n",
      "\u001b[0;32m<decorator-gen-84>\u001b[0m in \u001b[0;36mread_bem_solution\u001b[0;34m(fname, verbose)\u001b[0m\n",
      "\u001b[0;32m/Users/ricklicona/PycharmProjects/RExam/lib/python3.6/site-packages/mne/bem.py\u001b[0m in \u001b[0;36mread_bem_solution\u001b[0;34m(fname, verbose)\u001b[0m\n\u001b[1;32m   1412\u001b[0m     \u001b[0mwrite_bem_solution\u001b[0m\u001b[0;34m\u001b[0m\u001b[0m\n\u001b[1;32m   1413\u001b[0m     \"\"\"\n\u001b[0;32m-> 1414\u001b[0;31m     \u001b[0mfname\u001b[0m \u001b[0;34m=\u001b[0m \u001b[0m_check_fname\u001b[0m\u001b[0;34m(\u001b[0m\u001b[0mfname\u001b[0m\u001b[0;34m,\u001b[0m \u001b[0;34m'read'\u001b[0m\u001b[0;34m,\u001b[0m \u001b[0;32mTrue\u001b[0m\u001b[0;34m,\u001b[0m \u001b[0;34m'fname'\u001b[0m\u001b[0;34m)\u001b[0m\u001b[0;34m\u001b[0m\u001b[0m\n\u001b[0m\u001b[1;32m   1415\u001b[0m     \u001b[0;31m# mirrors fwd_bem_load_surfaces from fwd_bem_model.c\u001b[0m\u001b[0;34m\u001b[0m\u001b[0;34m\u001b[0m\u001b[0m\n\u001b[1;32m   1416\u001b[0m     \u001b[0;32mif\u001b[0m \u001b[0mfname\u001b[0m\u001b[0;34m.\u001b[0m\u001b[0mendswith\u001b[0m\u001b[0;34m(\u001b[0m\u001b[0;34m'.h5'\u001b[0m\u001b[0;34m)\u001b[0m\u001b[0;34m:\u001b[0m\u001b[0;34m\u001b[0m\u001b[0m\n",
      "\u001b[0;32m/Users/ricklicona/PycharmProjects/RExam/lib/python3.6/site-packages/mne/utils/check.py\u001b[0m in \u001b[0;36m_check_fname\u001b[0;34m(fname, overwrite, must_exist, name, allow_dir)\u001b[0m\n\u001b[1;32m    162\u001b[0m                 '%s does not have read permissions: %s' % (name, fname))\n\u001b[1;32m    163\u001b[0m     \u001b[0;32melif\u001b[0m \u001b[0mmust_exist\u001b[0m\u001b[0;34m:\u001b[0m\u001b[0;34m\u001b[0m\u001b[0m\n\u001b[0;32m--> 164\u001b[0;31m         \u001b[0;32mraise\u001b[0m \u001b[0mFileNotFoundError\u001b[0m\u001b[0;34m(\u001b[0m\u001b[0;34m'%s \"%s\" does not exist'\u001b[0m \u001b[0;34m%\u001b[0m \u001b[0;34m(\u001b[0m\u001b[0mname\u001b[0m\u001b[0;34m,\u001b[0m \u001b[0mfname\u001b[0m\u001b[0;34m)\u001b[0m\u001b[0;34m)\u001b[0m\u001b[0;34m\u001b[0m\u001b[0m\n\u001b[0m\u001b[1;32m    165\u001b[0m     \u001b[0;32mreturn\u001b[0m \u001b[0mstr\u001b[0m\u001b[0;34m(\u001b[0m\u001b[0mfname\u001b[0m\u001b[0;34m)\u001b[0m\u001b[0;34m\u001b[0m\u001b[0m\n\u001b[1;32m    166\u001b[0m \u001b[0;34m\u001b[0m\u001b[0m\n",
      "\u001b[0;31mFileNotFoundError\u001b[0m: fname \"/Users/ricklicona/Documents/GitHub/mne-biomag-group-demo/scripts/processing/library/../../../subjects/sub009/bem/sub009-5120-bem-sol-3layers.fif\" does not exist"
     ]
    }
   ],
   "source": [
    "for subject in range(0, len(subject_EEG_layers)):\n",
    "    salida = run_forward(subject_EEG_layers[subject])\n",
    "    "
   ]
  },
  {
   "cell_type": "code",
   "execution_count": null,
   "metadata": {},
   "outputs": [],
   "source": []
  }
 ],
 "metadata": {
  "kernelspec": {
   "display_name": "Python 3",
   "language": "python",
   "name": "python3"
  },
  "language_info": {
   "codemirror_mode": {
    "name": "ipython",
    "version": 3
   },
   "file_extension": ".py",
   "mimetype": "text/x-python",
   "name": "python",
   "nbconvert_exporter": "python",
   "pygments_lexer": "ipython3",
   "version": "3.6.0"
  }
 },
 "nbformat": 4,
 "nbformat_minor": 1
}
