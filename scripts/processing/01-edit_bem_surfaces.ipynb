{
 "cells": [
  {
   "cell_type": "code",
   "execution_count": 2,
   "metadata": {},
   "outputs": [
    {
     "name": "stdout",
     "output_type": "stream",
     "text": [
      "/Users/ricklicona/Documents/GitHub/mne-biomag-group-demo/scripts/processing/library/../../../subjects/sub006/bem\n",
      "/Users/ricklicona/Documents/GitHub/mne-biomag-group-demo/scripts/processing/library/../../../subjects\n"
     ]
    }
   ],
   "source": [
    "import os.path as op\n",
    "import mne\n",
    "import os\n",
    "from scripts.processing.library.config import study_path, subjects_dir, N_JOBS, spacing\n",
    "import shutil\n",
    "\n",
    "%matplotlib inline\n",
    "\n",
    "# The paths to Freesurfer reconstructions\n",
    "subject = 'sub006'\n",
    "bem_dir = op.join(study_path, 'subjects', subject, 'bem')\n",
    "print(bem_dir)\n",
    "\n",
    "subjects_dir = op.join(study_path, 'subjects')\n",
    "print(subjects_dir)\n",
    "plots = op.join(study_path, 'plots')\n"
   ]
  },
  {
   "cell_type": "code",
   "execution_count": 3,
   "metadata": {},
   "outputs": [],
   "source": [
    "def check_surfaces(subject):\n",
    "    #subject = \"sub%03d\" % subject_id\n",
    "    print(\"**********************************************SUBJECT: \", subject)\n",
    "    bem_surfaces = mne.viz.plot_bem(subject=subject, subjects_dir=subjects_dir,\n",
    "                                brain_surfaces='white', orientation='coronal')\n",
    "    \n",
    "    plot_name = op.join(plots, \"%s_BEM\" % (subject))\n",
    "    bem_surfaces.savefig(plot_name, format='eps')"
   ]
  },
  {
   "cell_type": "code",
   "execution_count": 4,
   "metadata": {},
   "outputs": [],
   "source": [
    "conv_dir = op.join(study_path, 'subjects',subject, 'conv')\n",
    "os.makedirs(conv_dir, exist_ok=True)"
   ]
  },
  {
   "cell_type": "markdown",
   "metadata": {},
   "source": [
    "## Exporting surfaces to Blender"
   ]
  },
  {
   "cell_type": "markdown",
   "metadata": {},
   "source": [
    " Convert the outer skull surface to .obj"
   ]
  },
  {
   "cell_type": "code",
   "execution_count": 8,
   "metadata": {},
   "outputs": [],
   "source": [
    "coords, faces = mne.read_surface(op.join(bem_dir, 'outer_skull.surf'))\n",
    "mne.write_surface(op.join(conv_dir, 'outer_skull.obj'), coords, faces,\n",
    "                  overwrite=True)"
   ]
  },
  {
   "cell_type": "code",
   "execution_count": 9,
   "metadata": {},
   "outputs": [],
   "source": [
    "coords, faces = mne.read_surface(op.join(bem_dir, 'inner_skull.surf'))\n",
    "mne.write_surface(op.join(conv_dir, 'inner_skull.obj'), coords, faces,\n",
    "                  overwrite=True)"
   ]
  },
  {
   "cell_type": "code",
   "execution_count": 10,
   "metadata": {},
   "outputs": [],
   "source": [
    "coords, faces = mne.read_surface(op.join(bem_dir, 'outer_skin.surf'))\n",
    "mne.write_surface(op.join(conv_dir, 'outer_skin.obj'), coords, faces,\n",
    "                  overwrite=True)"
   ]
  },
  {
   "cell_type": "markdown",
   "metadata": {},
   "source": [
    "## Read modification of BEM"
   ]
  },
  {
   "cell_type": "code",
   "execution_count": null,
   "metadata": {},
   "outputs": [],
   "source": [
    "# Read the fixed surface\n",
    "coords, faces = mne.read_surface(op.join(conv_dir, 'outer_skull_fixed.obj'))\n",
    "\n",
    "# Backup the original surface\n",
    "shutil.copy(op.join(bem_dir, 'outer_skull.surf'),\n",
    "            op.join(bem_dir, 'outer_skull_orig.surf'))\n",
    "\n",
    "\n",
    "# Overwrite the original surface with the fixed versionbem\n",
    "mne.write_surface(op.join(bem_dir, 'outer_skull.surf'), coords, faces,\n",
    "                  overwrite=True)\n",
    "\n",
    "check_surfaces(subject)\n",
    "os.system('open /Users/ricklicona/Documents/GitHub/mne-biomag-group-demo/plots/sub007_BEM')"
   ]
  },
  {
   "cell_type": "code",
   "execution_count": null,
   "metadata": {},
   "outputs": [],
   "source": [
    "# Read the fixed surface\n",
    "coords, faces = mne.read_surface(op.join(conv_dir, 'inner_skull_fixed.obj'))\n",
    "\n",
    "# Backup the original surface\n",
    "shutil.copy(op.join(bem_dir, 'inner_skull.surf'),\n",
    "            op.join(bem_dir, 'inner_skull_orig.surf'))\n",
    "\n",
    "# Overwrite the original surface with the fixed version\n",
    "mne.write_surface(op.join(bem_dir, 'inner_skull.surf'), coords, faces,\n",
    "                  overwrite=True)\n",
    "\n",
    "check_surfaces(subject)\n",
    "os.system('open /Users/ricklicona/Documents/GitHub/mne-biomag-group-demo/plots/sub019_BEM')"
   ]
  },
  {
   "cell_type": "code",
   "execution_count": null,
   "metadata": {},
   "outputs": [],
   "source": [
    "# Read the fixed surface\n",
    "coords, faces = mne.read_surface(op.join(conv_dir, 'outer_skin_fixed.obj'))\n",
    "\n",
    "# Backup the original surface\n",
    "shutil.copy(op.join(bem_dir, 'outer_skin.surf'),\n",
    "            op.join(bem_dir, 'outer_skin_orig.surf'))\n",
    "\n",
    "# Overwrite the original surface with the fixed version\n",
    "mne.write_surface(op.join(bem_dir, 'outer_skin.surf'), coords, faces,\n",
    "                  overwrite=True)\n",
    "check_surfaces(subject)\n",
    "os.system('open /Users/ricklicona/Documents/GitHub/mne-biomag-group-demo/plots/sub009_BEM')"
   ]
  },
  {
   "cell_type": "code",
   "execution_count": null,
   "metadata": {},
   "outputs": [],
   "source": [
    "jt -t onedork"
   ]
  }
 ],
 "metadata": {
  "kernelspec": {
   "display_name": "Python 3",
   "language": "python",
   "name": "python3"
  },
  "language_info": {
   "codemirror_mode": {
    "name": "ipython",
    "version": 3
   },
   "file_extension": ".py",
   "mimetype": "text/x-python",
   "name": "python",
   "nbconvert_exporter": "python",
   "pygments_lexer": "ipython3",
   "version": "3.7.9"
  }
 },
 "nbformat": 4,
 "nbformat_minor": 1
}
