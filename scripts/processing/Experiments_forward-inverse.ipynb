{
 "cells": [
  {
   "cell_type": "code",
   "execution_count": 1,
   "metadata": {},
   "outputs": [],
   "source": [
    "import os.path as op\n",
    "import mne\n",
    "from scripts.processing.library.config import study_path, subjects_dir, N_JOBS, spacing\n",
    "subjects_dir = op.join(study_path, 'subjects')\n",
    "\n",
    "%matplotlib inline"
   ]
  },
  {
   "cell_type": "code",
   "execution_count": 10,
   "metadata": {},
   "outputs": [],
   "source": [
    "def source_space(subject_id, fname_trans, src):\n",
    "    subject = \"sub%03d\" % subject_id\n",
    "    fig = mne.viz.plot_alignment(subject=subject, subjects_dir=subjects_dir,\n",
    "                             trans=fname_trans, surfaces='white', src=src)\n",
    "    set_3d_view(fig, focalpoint=(0., 0., 0.06))"
   ]
  },
  {
   "cell_type": "markdown",
   "metadata": {},
   "source": [
    "## Subject 002"
   ]
  },
  {
   "cell_type": "markdown",
   "metadata": {},
   "source": [
    "### Forward solution"
   ]
  },
  {
   "cell_type": "code",
   "execution_count": 3,
   "metadata": {},
   "outputs": [
    {
     "name": "stdout",
     "output_type": "stream",
     "text": [
      "Reading forward solution from /Users/ricklicona/Documents/GitHub/mne-biomag-group-demo/MEG/sub002/sub002-meg-EEG-oct6-fwd.fif...\n",
      "    Reading a source space...\n",
      "    Computing patch statistics...\n",
      "    Patch information added...\n",
      "    Distance information added...\n",
      "    [done]\n",
      "    Reading a source space...\n",
      "    Computing patch statistics...\n",
      "    Patch information added...\n",
      "    Distance information added...\n",
      "    [done]\n",
      "    2 source spaces read\n",
      "    Desired named matrix (kind = 3523) not available\n",
      "    Read EEG forward solution (7211 sources, 70 channels, free orientations)\n",
      "    Source spaces transformed to the forward solution coordinate frame\n"
     ]
    }
   ],
   "source": [
    "fwd = mne.read_forward_solution(\"/Users/ricklicona/Documents/GitHub/mne-biomag-group-demo/MEG/sub002/sub002-meg-EEG-oct6-fwd.fif\")"
   ]
  },
  {
   "cell_type": "code",
   "execution_count": 4,
   "metadata": {},
   "outputs": [
    {
     "data": {
      "text/plain": [
       "<Forward | MEG channels: 0 | EEG channels: 70 | Source space: Surface with 7211 vertices | Source orientation: Free>"
      ]
     },
     "execution_count": 4,
     "metadata": {},
     "output_type": "execute_result"
    }
   ],
   "source": [
    "fwd"
   ]
  },
  {
   "cell_type": "markdown",
   "metadata": {},
   "source": [
    "We can explore the content of fwd to access the numpy array that contains the gain matrix."
   ]
  },
  {
   "cell_type": "code",
   "execution_count": 5,
   "metadata": {},
   "outputs": [
    {
     "name": "stdout",
     "output_type": "stream",
     "text": [
      "Leadfield size : 70 sensors x 21633 dipoles\n"
     ]
    }
   ],
   "source": [
    "leadfield = fwd['sol']['data']\n",
    "print(\"Leadfield size : %d sensors x %d dipoles\" % leadfield.shape)"
   ]
  },
  {
   "cell_type": "markdown",
   "metadata": {},
   "source": [
    "To extract the numpy array containing the forward operator corresponding to the source space fwd['src'] with cortical orientation constraint we can use the following:"
   ]
  },
  {
   "cell_type": "code",
   "execution_count": 6,
   "metadata": {},
   "outputs": [
    {
     "name": "stdout",
     "output_type": "stream",
     "text": [
      "    Average patch normals will be employed in the rotation to the local surface coordinates....\n",
      "    Converting to surface-based source orientations...\n",
      "    [done]\n",
      "Leadfield size : 70 sensors x 7211 dipoles\n"
     ]
    }
   ],
   "source": [
    "fwd_fixed = mne.convert_forward_solution(fwd, surf_ori=True, force_fixed=True,\n",
    "                                         use_cps=True)\n",
    "leadfield = fwd_fixed['sol']['data']\n",
    "print(\"Leadfield size : %d sensors x %d dipoles\" % leadfield.shape)"
   ]
  },
  {
   "cell_type": "markdown",
   "metadata": {},
   "source": [
    "### Inverse "
   ]
  },
  {
   "cell_type": "code",
   "execution_count": 7,
   "metadata": {},
   "outputs": [
    {
     "name": "stdout",
     "output_type": "stream",
     "text": [
      "Reading inverse operator decomposition from /Users/ricklicona/Documents/GitHub/mne-biomag-group-demo/MEG/sub002/sub002_highpass-NoneHz-meg-EEG-oct6-inv.fif...\n",
      "    Reading inverse operator info...\n",
      "    [done]\n",
      "    Reading inverse operator decomposition...\n",
      "    [done]\n",
      "    70 x 70 full covariance (kind = 1) found.\n",
      "    Read a total of 1 projection items:\n",
      "        Average EEG reference (1 x 70) active\n",
      "    Noise covariance matrix read.\n",
      "    21633 x 21633 diagonal covariance (kind = 2) found.\n",
      "    Source covariance matrix read.\n",
      "    21633 x 21633 diagonal covariance (kind = 6) found.\n",
      "    Orientation priors read.\n",
      "    21633 x 21633 diagonal covariance (kind = 5) found.\n",
      "    Depth priors read.\n",
      "    Did not find the desired covariance matrix (kind = 3)\n",
      "    Reading a source space...\n",
      "    Computing patch statistics...\n",
      "    Patch information added...\n",
      "    Distance information added...\n",
      "    [done]\n",
      "    Reading a source space...\n",
      "    Computing patch statistics...\n",
      "    Patch information added...\n",
      "    Distance information added...\n",
      "    [done]\n",
      "    2 source spaces read\n",
      "    Read a total of 1 projection items:\n",
      "        Average EEG reference (1 x 70) active\n",
      "    Source spaces transformed to the inverse solution coordinate frame\n",
      "Method: 2\n",
      "fMRI prior: None\n",
      "Number of sources: 7211\n",
      "Number of channels: 70\n",
      "Number of vertices on the left hemisphere: 139132\n",
      "Number of triangles on left hemisphere: 8192\n",
      "Number of vertices on the right hemisphere: 139806\n",
      "Number of triangles on right hemisphere: 8192\n"
     ]
    }
   ],
   "source": [
    "\n",
    "from mne.minimum_norm import read_inverse_operator\n",
    "from mne.viz import set_3d_view\n",
    "\n",
    "\n",
    "\n",
    "fname_trans = \"/Users/ricklicona/Documents/GitHub/mne-biomag-group-demo/ds117/sub002/MEG/sub002-trans.fif\"\n",
    "\n",
    "inv_fname = '/Users/ricklicona/Documents/GitHub/mne-biomag-group-demo/MEG/sub002/sub002_highpass-NoneHz-meg-EEG-oct6-inv.fif'\n",
    "\n",
    "inv = read_inverse_operator(inv_fname)\n",
    "\n",
    "print(\"Method: %s\" % inv['methods'])\n",
    "print(\"fMRI prior: %s\" % inv['fmri_prior'])\n",
    "print(\"Number of sources: %s\" % inv['nsource'])\n",
    "print(\"Number of channels: %s\" % inv['nchan'])\n",
    "\n",
    "src = inv['src']  # get the source space\n",
    "\n",
    "# Get access to the triangulation of the cortex\n",
    "\n",
    "print(\"Number of vertices on the left hemisphere: %d\" % len(src[0]['rr']))\n",
    "print(\"Number of triangles on left hemisphere: %d\" % len(src[0]['use_tris']))\n",
    "print(\"Number of vertices on the right hemisphere: %d\" % len(src[1]['rr']))\n",
    "print(\"Number of triangles on right hemisphere: %d\" % len(src[1]['use_tris']))"
   ]
  },
  {
   "cell_type": "code",
   "execution_count": 11,
   "metadata": {},
   "outputs": [
    {
     "name": "stdout",
     "output_type": "stream",
     "text": [
      "Using pyvista 3d backend.\n",
      "\n"
     ]
    }
   ],
   "source": [
    "source_space(subject_id=2, fname_trans=fname_trans, src=src)"
   ]
  },
  {
   "cell_type": "code",
   "execution_count": 9,
   "metadata": {},
   "outputs": [
    {
     "data": {
      "text/plain": [
       "<SourceSpaces: [<surface (lh), n_vertices=139132, n_used=3589>, <surface (rh), n_vertices=139806, n_used=3622>] head coords, subject 'sub002', ~24.5 MB>"
      ]
     },
     "execution_count": 9,
     "metadata": {},
     "output_type": "execute_result"
    }
   ],
   "source": [
    "src"
   ]
  }
 ],
 "metadata": {
  "kernelspec": {
   "display_name": "Python 3",
   "language": "python",
   "name": "python3"
  },
  "language_info": {
   "codemirror_mode": {
    "name": "ipython",
    "version": 3
   },
   "file_extension": ".py",
   "mimetype": "text/x-python",
   "name": "python",
   "nbconvert_exporter": "python",
   "pygments_lexer": "ipython3",
   "version": "3.6.0"
  }
 },
 "nbformat": 4,
 "nbformat_minor": 1
}
