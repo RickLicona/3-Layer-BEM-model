{
 "cells": [
  {
   "cell_type": "code",
   "execution_count": null,
   "metadata": {},
   "outputs": [],
   "source": [
    "import os.path as op\n",
    "import mne\n",
    "from scripts.processing.library.config import study_path, N_JOBS, spacing\n",
    "%matplotlib inline\n",
    "\n",
    "# The paths to Freesurfer reconstructions\n",
    "subject = \"sub001\" \n",
    "\n",
    "subjects_dir = \"/Users/ricklicona/Documents/python3 -m pip install --user --upgrade pipGitHub/mne-biomag-group-demo/subjects/sub001/bem/flash\"\n",
    "print(subjects_dir)\n"
   ]
  },
  {
   "cell_type": "code",
   "execution_count": null,
   "metadata": {
    "pycharm": {
     "name": "#%%\n"
    }
   },
   "outputs": [],
   "source": [
    "print(\"Hola\")"
   ]
  },
  {
   "cell_type": "code",
   "execution_count": null,
   "metadata": {},
   "outputs": [],
   "source": [
    "mne.viz.plot_bem(subject=subject, subjects_dir=subjects_dir,\n",
    "                 brain_surfaces='white', orientation='coronal')"
   ]
  },
  {
   "cell_type": "code",
   "execution_count": null,
   "metadata": {},
   "outputs": [],
   "source": [
    "mne.viz.plot_bem(subject=subject, subjects_dir=subjects_dir,\n",
    "                 brain_surfaces='white', orientation='coronal')"
   ]
  },
  {
   "cell_type": "code",
   "execution_count": null,
   "metadata": {},
   "outputs": [],
   "source": [
    "import os.path as op\n",
    "import mne\n",
    "from scripts.processing.library.config import study_path, N_JOBS, spacing\n",
    "%matplotlib inline\n",
    "\n",
    "# The paths to Freesurfer reconstructions\n",
    "subject = \"sub002\" \n",
    "\n",
    "subjects_dir = \"/Users/ricklicona/Documents/GitHub/mne-biomag-group-demo/subjects/sub002/bem/flash\"\n",
    "print(subjects_dir)\n"
   ]
  },
  {
   "cell_type": "code",
   "execution_count": null,
   "metadata": {},
   "outputs": [],
   "source": [
    "mne.viz.plot_bem(subject=subject, subjects_dir=subjects_dir,\n",
    "                 brain_surfaces='white', orientation='coronal')"
   ]
  },
  {
   "cell_type": "code",
   "execution_count": null,
   "metadata": {},
   "outputs": [],
   "source": [
    "import os.path as op\n",
    "import mne\n",
    "from scripts.processing.library.config import study_path, N_JOBS, spacing\n",
    "%matplotlib inline\n",
    "\n",
    "# The paths to Freesurfer reconstructions\n",
    "subject = \"sub002\" \n",
    "\n",
    "subjects_dir = \"/Users/ricklicona/Documents/GitHub/mne-biomag-group-demo/subjects/sub005/bem/flash\"\n",
    "print(subjects_dir)\n",
    "mne.viz.plot_bem(subject=subject, subjects_dir=subjects_dir,\n",
    "                 brain_surfaces='white', orientation='coronal')"
   ]
  }
 ],
 "metadata": {
  "kernelspec": {
   "display_name": "Python 3",
   "language": "python",
   "name": "python3"
  },
  "language_info": {
   "codemirror_mode": {
    "name": "ipython",
    "version": 3
   },
   "file_extension": ".py",
   "mimetype": "text/x-python",
   "name": "python",
   "nbconvert_exporter": "python",
   "pygments_lexer": "ipython3",
   "version": "3.7.9"
  }
 },
 "nbformat": 4,
 "nbformat_minor": 1
}
