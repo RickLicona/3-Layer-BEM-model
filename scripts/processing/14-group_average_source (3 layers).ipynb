{
 "cells": [
  {
   "cell_type": "code",
   "execution_count": 4,
   "metadata": {},
   "outputs": [],
   "source": [
    "\n",
    "import os.path as op\n",
    "\n",
    "import numpy as np\n",
    "\n",
    "import mne\n",
    "\n",
    "#from library.config import (meg_dir, subjects_dir, N_JOBS, smooth,\n",
    "#                            fsaverage_vertices, exclude_subjects, l_freq)\n",
    "\n",
    "from scripts.processing.library.config import (meg_dir, subjects_dir, N_JOBS, smooth,\n",
    "                            fsaverage_vertices, l_freq)\n",
    "\n",
    "exclude_subjects = [1, 3, 4, 5, 7, 8, 9, 10, 11, 12, 13, 15, 16, 17]\n",
    "subject_EEG_layers = [2, 14, 18]\n",
    "\n",
    "def morph_stc(subject_id):\n",
    "    subject = \"sub%03d\" % subject_id\n",
    "    print(\"processing subject: %s\" % subject)\n",
    "    data_path = op.join(meg_dir, subject)\n",
    "\n",
    "    # Morph STCs\n",
    "    morph_mat = None\n",
    "    for condition in ('contrast', 'faces_eq', 'scrambled_eq'):\n",
    "        stc = mne.read_source_estimate(\n",
    "            op.join(data_path, 'mne_dSPM_inverse_highpass-%sHz-%s'\n",
    "                    % (l_freq, condition)), subject)\n",
    "        if morph_mat is None:\n",
    "            morph_mat = mne.compute_morph_matrix(\n",
    "                subject, 'fsaverage', stc.vertices, fsaverage_vertices, smooth,\n",
    "                subjects_dir=subjects_dir, warn=False)\n",
    "        morphed = stc.morph_precomputed('fsaverage', fsaverage_vertices,\n",
    "                                        morph_mat)\n",
    "        morphed.save(op.join(data_path,\n",
    "                             'mne_dSPM_inverse_morph_highpass-%sHz-%s'\n",
    "                             % (l_freq, condition)))\n",
    "        if condition == 'contrast':\n",
    "            out = morphed\n",
    "    return out"
   ]
  },
  {
   "cell_type": "code",
   "execution_count": 3,
   "metadata": {},
   "outputs": [
    {
     "name": "stdout",
     "output_type": "stream",
     "text": [
      "processing subject: sub002\n"
     ]
    },
    {
     "ename": "AttributeError",
     "evalue": "module 'mne' has no attribute 'compute_morph_matrix'",
     "output_type": "error",
     "traceback": [
      "\u001b[0;31m---------------------------------------------------------------------------\u001b[0m",
      "\u001b[0;31mAttributeError\u001b[0m                            Traceback (most recent call last)",
      "\u001b[0;32m<ipython-input-3-97f1fcf0cd26>\u001b[0m in \u001b[0;36m<module>\u001b[0;34m()\u001b[0m\n\u001b[1;32m      1\u001b[0m \u001b[0;32mfor\u001b[0m \u001b[0msubject\u001b[0m \u001b[0;32min\u001b[0m \u001b[0mrange\u001b[0m\u001b[0;34m(\u001b[0m\u001b[0;36m0\u001b[0m\u001b[0;34m,\u001b[0m \u001b[0mlen\u001b[0m\u001b[0;34m(\u001b[0m\u001b[0msubject_EEG_layers\u001b[0m\u001b[0;34m)\u001b[0m\u001b[0;34m)\u001b[0m\u001b[0;34m:\u001b[0m\u001b[0;34m\u001b[0m\u001b[0m\n\u001b[0;32m----> 2\u001b[0;31m     \u001b[0mstcs\u001b[0m \u001b[0;34m=\u001b[0m \u001b[0mmorph_stc\u001b[0m\u001b[0;34m(\u001b[0m\u001b[0msubject_EEG_layers\u001b[0m\u001b[0;34m[\u001b[0m\u001b[0msubject\u001b[0m\u001b[0;34m]\u001b[0m\u001b[0;34m)\u001b[0m\u001b[0;34m\u001b[0m\u001b[0m\n\u001b[0m\u001b[1;32m      3\u001b[0m \u001b[0;34m\u001b[0m\u001b[0m\n\u001b[1;32m      4\u001b[0m stcs = [stc for stc, subject_id in zip(stcs, range(1, 20))\n\u001b[1;32m      5\u001b[0m         if subject_id not in exclude_subjects]\n",
      "\u001b[0;32m<ipython-input-1-81ed705afa0a>\u001b[0m in \u001b[0;36mmorph_stc\u001b[0;34m(subject_id)\u001b[0m\n\u001b[1;32m     28\u001b[0m                     % (l_freq, condition)), subject)\n\u001b[1;32m     29\u001b[0m         \u001b[0;32mif\u001b[0m \u001b[0mmorph_mat\u001b[0m \u001b[0;32mis\u001b[0m \u001b[0;32mNone\u001b[0m\u001b[0;34m:\u001b[0m\u001b[0;34m\u001b[0m\u001b[0m\n\u001b[0;32m---> 30\u001b[0;31m             morph_mat = mne.compute_morph_matrix(\n\u001b[0m\u001b[1;32m     31\u001b[0m                 \u001b[0msubject\u001b[0m\u001b[0;34m,\u001b[0m \u001b[0;34m'fsaverage'\u001b[0m\u001b[0;34m,\u001b[0m \u001b[0mstc\u001b[0m\u001b[0;34m.\u001b[0m\u001b[0mvertices\u001b[0m\u001b[0;34m,\u001b[0m \u001b[0mfsaverage_vertices\u001b[0m\u001b[0;34m,\u001b[0m \u001b[0msmooth\u001b[0m\u001b[0;34m,\u001b[0m\u001b[0;34m\u001b[0m\u001b[0m\n\u001b[1;32m     32\u001b[0m                 subjects_dir=subjects_dir, warn=False)\n",
      "\u001b[0;31mAttributeError\u001b[0m: module 'mne' has no attribute 'compute_morph_matrix'"
     ]
    }
   ],
   "source": [
    "for subject in range(0, len(subject_EEG_layers)):\n",
    "    stcs = morph_stc(subject_EEG_layers[subject]) \n",
    "\n",
    "stcs = [stc for stc, subject_id in zip(stcs, range(1, 20))\n",
    "        if subject_id not in exclude_subjects]\n",
    "data = np.average([s.data for s in stcs], axis=0)\n",
    "stc = mne.VectorSourceEstimate(data, stcs[0].vertices,\n",
    "                               stcs[0].tmin, stcs[0].tstep, stcs[0].subject)\n",
    "stc.save(op.join(meg_dir, 'contrast-average_highpass-%sHz' % l_freq))"
   ]
  },
  {
   "cell_type": "code",
   "execution_count": null,
   "metadata": {},
   "outputs": [],
   "source": []
  }
 ],
 "metadata": {
  "kernelspec": {
   "display_name": "Python 3",
   "language": "python",
   "name": "python3"
  },
  "language_info": {
   "codemirror_mode": {
    "name": "ipython",
    "version": 3
   },
   "file_extension": ".py",
   "mimetype": "text/x-python",
   "name": "python",
   "nbconvert_exporter": "python",
   "pygments_lexer": "ipython3",
   "version": "3.6.0"
  }
 },
 "nbformat": 4,
 "nbformat_minor": 1
}
