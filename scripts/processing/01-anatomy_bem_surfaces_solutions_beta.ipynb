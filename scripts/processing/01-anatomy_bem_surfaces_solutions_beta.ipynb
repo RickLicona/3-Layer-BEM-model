{
 "cells": [
  {
   "cell_type": "code",
   "execution_count": 1,
   "metadata": {},
   "outputs": [],
   "source": [
    "import os.path as op\n",
    "import mne\n",
    "from scripts.processing.library.config import study_path, subjects_dir, N_JOBS, spacing\n",
    "%matplotlib inline    "
   ]
  },
  {
   "cell_type": "markdown",
   "metadata": {},
   "source": [
    "##  <font color=\"green\">FOR 3 LAYER (EEG) </font>"
   ]
  },
  {
   "cell_type": "code",
   "execution_count": 2,
   "metadata": {},
   "outputs": [],
   "source": [
    "def run_bem(subject_id):\n",
    "    subject = \"sub%03d\" % subject_id\n",
    "    print(subject)\n",
    "    subjects_dir = op.join(study_path, 'subjects')\n",
    "    print(subjects_dir)\n",
    "    \n",
    "    #BEM ESTIMATION\n",
    "    conductivity = (0.3, 0.006, 0.3)  # for three layer (EEG)\n",
    "\n",
    "    # BEM MODEL FILE\n",
    "    fname_bem_surfaces = op.join(subjects_dir, subject, 'bem',\n",
    "                                     '%s-5120-bem-3layers.fif' % (subject))\n",
    "    # BEM SOLUTION FILE\n",
    "    fname_bem = op.join(subjects_dir, subject, 'bem', \n",
    "                    '%s-5120-bem-sol-3layers.fif' % (subject))\n",
    "    # CHECK UBICATION OF THE FILES\n",
    "\n",
    "    print(fname_bem_surfaces)\n",
    "    print(fname_bem)\n",
    "    \n",
    "    #WRITE BEM SURFACES\n",
    "    print(\"\\nWRITING BEM SURFACES...\")\n",
    "    model = mne.make_bem_model(subject=subject, ico=4,\n",
    "                               conductivity=conductivity,\n",
    "                               subjects_dir=subjects_dir)\n",
    "\n",
    "    mne.write_bem_surfaces(fname_bem_surfaces, model)\n",
    "    \n",
    "    #WRITE BEM SOLUTION\n",
    "    bem_model = mne.read_bem_surfaces(fname_bem_surfaces)\n",
    "    print(\"\\nMAKING BEM SOLUTION...\")\n",
    "    bem = mne.make_bem_solution(bem_model)\n",
    "    print(\"\\nWRITING BEM SOLUTION...\")\n",
    "    mne.write_bem_solution(fname_bem, bem)\n",
    "    "
   ]
  },
  {
   "cell_type": "markdown",
   "metadata": {},
   "source": [
    "##  <font color=\"green\">FOR 1 LAYER (MEG) </font>"
   ]
  },
  {
   "cell_type": "code",
   "execution_count": 7,
   "metadata": {},
   "outputs": [],
   "source": [
    "def run_bem_1(subject_id):\n",
    "    subject = \"sub%03d\" % subject_id\n",
    "    print(subject)\n",
    "    subjects_dir = op.join(study_path, 'subjects')\n",
    "    print(subjects_dir)\n",
    "    \n",
    "    #BEM ESTIMATION\n",
    "    conductivity = (0.3,)  # for three layer (EEG)\n",
    "\n",
    "    # BEM MODEL FILE\n",
    "    fname_bem_surfaces = op.join(subjects_dir, subject, 'bem',\n",
    "                                     '%s-5120-bem-3layers.fif' % (subject))\n",
    "    # BEM SOLUTION FILE\n",
    "    fname_bem = op.join(subjects_dir, subject, 'bem', \n",
    "                    '%s-5120-bem-sol-3layers.fif' % (subject))\n",
    "    # CHECK UBICATION OF THE FILES\n",
    "\n",
    "    print(fname_bem_surfaces)\n",
    "    print(fname_bem)\n",
    "    \n",
    "    #WRITE BEM SURFACES\n",
    "    print(\"\\nWRITING BEM SURFACES...\")\n",
    "    model = mne.make_bem_model(subject=subject, ico=4,\n",
    "                               conductivity=conductivity,\n",
    "                               subjects_dir=subjects_dir)\n",
    "\n",
    "    mne.write_bem_surfaces(fname_bem_surfaces, model)\n",
    "    \n",
    "    #WRITE BEM SOLUTION\n",
    "    bem_model = mne.read_bem_surfaces(fname_bem_surfaces)\n",
    "    print(\"\\nMAKING BEM SOLUTION...\")\n",
    "    bem = mne.make_bem_solution(bem_model)\n",
    "    print(\"\\nWRITING BEM SOLUTION...\")\n",
    "    mne.write_bem_solution(fname_bem, bem)\n",
    "    "
   ]
  },
  {
   "cell_type": "code",
   "execution_count": 5,
   "metadata": {},
   "outputs": [
    {
     "name": "stdout",
     "output_type": "stream",
     "text": [
      "sub002\n",
      "/Users/ricklicona/Documents/GitHub/mne-biomag-group-demo/scripts/processing/library/../../../subjects\n",
      "/Users/ricklicona/Documents/GitHub/mne-biomag-group-demo/scripts/processing/library/../../../subjects/sub002/bem/sub002-5120-bem-3layers.fif\n",
      "/Users/ricklicona/Documents/GitHub/mne-biomag-group-demo/scripts/processing/library/../../../subjects/sub002/bem/sub002-5120-bem-sol-3layers.fif\n",
      "\n",
      "WRITING BEM SURFACES...\n",
      "Creating the BEM geometry...\n",
      "Going from 4th to 4th subdivision of an icosahedron (n_tri: 5120 -> 5120)\n",
      "Going from 4th to 4th subdivision of an icosahedron (n_tri: 5120 -> 5120)\n",
      "Going from 4th to 4th subdivision of an icosahedron (n_tri: 5120 -> 5120)\n",
      "outer skin  CM is  -1.62 -13.44  -3.77 mm\n",
      "outer skull CM is  -1.25 -19.59   0.91 mm\n",
      "inner skull CM is  -1.24 -19.54   0.29 mm\n",
      "Checking that outer skull surface is inside outer skin  surface...\n",
      "Checking that inner skull surface is inside outer skull surface...\n",
      "Checking distance between outer skin  and outer skull surfaces...\n",
      "Minimum distance between the outer skin  and outer skull surfaces is approximately    2.7 mm\n",
      "Checking distance between outer skull and inner skull surfaces...\n",
      "Minimum distance between the outer skull and inner skull surfaces is approximately    3.8 mm\n",
      "Surfaces passed the basic topology checks.\n",
      "Complete.\n",
      "\n",
      "Overwriting existing file.\n",
      "    3 BEM surfaces found\n",
      "    Reading a surface...\n",
      "[done]\n",
      "    Reading a surface...\n",
      "[done]\n",
      "    Reading a surface...\n",
      "[done]\n",
      "    3 BEM surfaces read\n",
      "\n",
      "MAKING BEM SOLUTION...\n",
      "Approximation method : Linear collocation\n",
      "\n",
      "Three-layer model surfaces loaded.\n",
      "Computing the linear collocation solution...\n",
      "    Matrix coefficients...\n",
      "        outer skin  (2562) -> outer skin  (2562) ...\n"
     ]
    },
    {
     "name": "stderr",
     "output_type": "stream",
     "text": [
      "<ipython-input-2-561dd6c8c918>:27: DeprecationWarning: file /Users/ricklicona/Documents/GitHub/mne-biomag-group-demo/scripts/processing/library/../../../subjects/sub002/bem/sub002-5120-bem-3layers.fif exists; overwrite will default to True in 0.21 and change to False in 0.22, set it explicitly to avoid this warning\n",
      "  mne.write_bem_surfaces(fname_bem_surfaces, model)\n"
     ]
    },
    {
     "name": "stdout",
     "output_type": "stream",
     "text": [
      "        outer skin  (2562) -> outer skull (2562) ...\n",
      "        outer skin  (2562) -> inner skull (2562) ...\n",
      "        outer skull (2562) -> outer skin  (2562) ...\n",
      "        outer skull (2562) -> outer skull (2562) ...\n",
      "        outer skull (2562) -> inner skull (2562) ...\n",
      "        inner skull (2562) -> outer skin  (2562) ...\n",
      "        inner skull (2562) -> outer skull (2562) ...\n",
      "        inner skull (2562) -> inner skull (2562) ...\n",
      "    Inverting the coefficient matrix...\n",
      "IP approach required...\n",
      "    Matrix coefficients (homog)...\n",
      "        inner skull (2562) -> inner skull (2562) ...\n",
      "    Inverting the coefficient matrix (homog)...\n",
      "    Modify the original solution to incorporate IP approach...\n",
      "        Combining...\n",
      "        Scaling...\n",
      "Solution ready.\n",
      "BEM geometry computations complete.\n",
      "\n",
      "WRITING BEM SOLUTION...\n",
      "Overwriting existing file.\n"
     ]
    },
    {
     "name": "stderr",
     "output_type": "stream",
     "text": [
      "<ipython-input-2-561dd6c8c918>:34: DeprecationWarning: file /Users/ricklicona/Documents/GitHub/mne-biomag-group-demo/scripts/processing/library/../../../subjects/sub002/bem/sub002-5120-bem-sol-3layers.fif exists; overwrite will default to True in 0.21 and change to False in 0.22, set it explicitly to avoid this warning\n",
      "  mne.write_bem_solution(fname_bem, bem)\n"
     ]
    }
   ],
   "source": [
    "run_bem(subject_id=2)"
   ]
  },
  {
   "cell_type": "markdown",
   "metadata": {},
   "source": [
    "##  <font color=\"red\">RESULT FOR 3 LAYERS (EEG)- SUBJECT 06 </font>"
   ]
  },
  {
   "cell_type": "code",
   "execution_count": 6,
   "metadata": {},
   "outputs": [
    {
     "name": "stdout",
     "output_type": "stream",
     "text": [
      "sub006\n",
      "/Users/ricklicona/Documents/GitHub/mne-biomag-group-demo/scripts/processing/library/../../../subjects\n",
      "/Users/ricklicona/Documents/GitHub/mne-biomag-group-demo/scripts/processing/library/../../../subjects/sub006/bem/sub006-5120-bem-3layers.fif\n",
      "/Users/ricklicona/Documents/GitHub/mne-biomag-group-demo/scripts/processing/library/../../../subjects/sub006/bem/sub006-5120-bem-sol-3layers.fif\n",
      "\n",
      "WRITING BEM SURFACES...\n",
      "Creating the BEM geometry...\n",
      "Going from 4th to 4th subdivision of an icosahedron (n_tri: 5120 -> 5120)\n",
      "Going from 4th to 4th subdivision of an icosahedron (n_tri: 5120 -> 5120)\n",
      "Going from 4th to 4th subdivision of an icosahedron (n_tri: 5120 -> 5120)\n",
      "outer skin  CM is  -1.87  -6.12  12.20 mm\n",
      "outer skull CM is  -1.62  -6.71  14.21 mm\n",
      "inner skull CM is  -1.67  -7.24  13.91 mm\n",
      "Checking that outer skull surface is inside outer skin  surface...\n"
     ]
    },
    {
     "ename": "RuntimeError",
     "evalue": "Surface outer skull is not completely inside surface outer skin ",
     "output_type": "error",
     "traceback": [
      "\u001b[0;31m---------------------------------------------------------------------------\u001b[0m",
      "\u001b[0;31mRuntimeError\u001b[0m                              Traceback (most recent call last)",
      "\u001b[0;32m<ipython-input-6-24e525bbbf10>\u001b[0m in \u001b[0;36m<module>\u001b[0;34m()\u001b[0m\n\u001b[0;32m----> 1\u001b[0;31m \u001b[0mrun_bem\u001b[0m\u001b[0;34m(\u001b[0m\u001b[0msubject_id\u001b[0m\u001b[0;34m=\u001b[0m\u001b[0;36m6\u001b[0m\u001b[0;34m)\u001b[0m\u001b[0;34m\u001b[0m\u001b[0m\n\u001b[0m",
      "\u001b[0;32m<ipython-input-2-561dd6c8c918>\u001b[0m in \u001b[0;36mrun_bem\u001b[0;34m(subject_id)\u001b[0m\n\u001b[1;32m     23\u001b[0m     model = mne.make_bem_model(subject=subject, ico=4,\n\u001b[1;32m     24\u001b[0m                                \u001b[0mconductivity\u001b[0m\u001b[0;34m=\u001b[0m\u001b[0mconductivity\u001b[0m\u001b[0;34m,\u001b[0m\u001b[0;34m\u001b[0m\u001b[0m\n\u001b[0;32m---> 25\u001b[0;31m                                subjects_dir=subjects_dir)\n\u001b[0m\u001b[1;32m     26\u001b[0m \u001b[0;34m\u001b[0m\u001b[0m\n\u001b[1;32m     27\u001b[0m     \u001b[0mmne\u001b[0m\u001b[0;34m.\u001b[0m\u001b[0mwrite_bem_surfaces\u001b[0m\u001b[0;34m(\u001b[0m\u001b[0mfname_bem_surfaces\u001b[0m\u001b[0;34m,\u001b[0m \u001b[0mmodel\u001b[0m\u001b[0;34m)\u001b[0m\u001b[0;34m\u001b[0m\u001b[0m\n",
      "\u001b[0;32m<decorator-gen-77>\u001b[0m in \u001b[0;36mmake_bem_model\u001b[0;34m(subject, ico, conductivity, subjects_dir, verbose)\u001b[0m\n",
      "\u001b[0;32m/Users/ricklicona/PycharmProjects/RExam/lib/python3.6/site-packages/mne/bem.py\u001b[0m in \u001b[0;36mmake_bem_model\u001b[0;34m(subject, ico, conductivity, subjects_dir, verbose)\u001b[0m\n\u001b[1;32m    589\u001b[0m         \u001b[0msurfaces\u001b[0m \u001b[0;34m=\u001b[0m \u001b[0msurfaces\u001b[0m\u001b[0;34m[\u001b[0m\u001b[0;34m:\u001b[0m\u001b[0;36m1\u001b[0m\u001b[0;34m]\u001b[0m\u001b[0;34m\u001b[0m\u001b[0m\n\u001b[1;32m    590\u001b[0m         \u001b[0mids\u001b[0m \u001b[0;34m=\u001b[0m \u001b[0mids\u001b[0m\u001b[0;34m[\u001b[0m\u001b[0;34m:\u001b[0m\u001b[0;36m1\u001b[0m\u001b[0;34m]\u001b[0m\u001b[0;34m\u001b[0m\u001b[0m\n\u001b[0;32m--> 591\u001b[0;31m     \u001b[0msurfaces\u001b[0m \u001b[0;34m=\u001b[0m \u001b[0m_surfaces_to_bem\u001b[0m\u001b[0;34m(\u001b[0m\u001b[0msurfaces\u001b[0m\u001b[0;34m,\u001b[0m \u001b[0mids\u001b[0m\u001b[0;34m,\u001b[0m \u001b[0mconductivity\u001b[0m\u001b[0;34m,\u001b[0m \u001b[0mico\u001b[0m\u001b[0;34m)\u001b[0m\u001b[0;34m\u001b[0m\u001b[0m\n\u001b[0m\u001b[1;32m    592\u001b[0m     \u001b[0m_check_bem_size\u001b[0m\u001b[0;34m(\u001b[0m\u001b[0msurfaces\u001b[0m\u001b[0;34m)\u001b[0m\u001b[0;34m\u001b[0m\u001b[0m\n\u001b[1;32m    593\u001b[0m     \u001b[0mlogger\u001b[0m\u001b[0;34m.\u001b[0m\u001b[0minfo\u001b[0m\u001b[0;34m(\u001b[0m\u001b[0;34m'Complete.\\n'\u001b[0m\u001b[0;34m)\u001b[0m\u001b[0;34m\u001b[0m\u001b[0m\n",
      "\u001b[0;32m/Users/ricklicona/PycharmProjects/RExam/lib/python3.6/site-packages/mne/bem.py\u001b[0m in \u001b[0;36m_surfaces_to_bem\u001b[0;34m(surfs, ids, sigmas, ico, rescale, incomplete, extra)\u001b[0m\n\u001b[1;32m    522\u001b[0m \u001b[0;34m\u001b[0m\u001b[0m\n\u001b[1;32m    523\u001b[0m     \u001b[0;31m# Check topology as best we can\u001b[0m\u001b[0;34m\u001b[0m\u001b[0;34m\u001b[0m\u001b[0m\n\u001b[0;32m--> 524\u001b[0;31m     \u001b[0m_check_surfaces\u001b[0m\u001b[0;34m(\u001b[0m\u001b[0msurfs\u001b[0m\u001b[0;34m,\u001b[0m \u001b[0mincomplete\u001b[0m\u001b[0;34m=\u001b[0m\u001b[0mincomplete\u001b[0m\u001b[0;34m)\u001b[0m\u001b[0;34m\u001b[0m\u001b[0m\n\u001b[0m\u001b[1;32m    525\u001b[0m     \u001b[0;32mfor\u001b[0m \u001b[0msurf\u001b[0m \u001b[0;32min\u001b[0m \u001b[0msurfs\u001b[0m\u001b[0;34m:\u001b[0m\u001b[0;34m\u001b[0m\u001b[0m\n\u001b[1;32m    526\u001b[0m         \u001b[0m_check_surface_size\u001b[0m\u001b[0;34m(\u001b[0m\u001b[0msurf\u001b[0m\u001b[0;34m)\u001b[0m\u001b[0;34m\u001b[0m\u001b[0m\n",
      "\u001b[0;32m/Users/ricklicona/PycharmProjects/RExam/lib/python3.6/site-packages/mne/bem.py\u001b[0m in \u001b[0;36m_check_surfaces\u001b[0;34m(surfs, incomplete)\u001b[0m\n\u001b[1;32m    461\u001b[0m         logger.info('Checking that %s surface is inside %s surface...' %\n\u001b[1;32m    462\u001b[0m                     (_surf_name[surf_2['id']], _surf_name[surf_1['id']]))\n\u001b[0;32m--> 463\u001b[0;31m         \u001b[0m_assert_inside\u001b[0m\u001b[0;34m(\u001b[0m\u001b[0msurf_2\u001b[0m\u001b[0;34m,\u001b[0m \u001b[0msurf_1\u001b[0m\u001b[0;34m)\u001b[0m\u001b[0;34m\u001b[0m\u001b[0m\n\u001b[0m\u001b[1;32m    464\u001b[0m \u001b[0;34m\u001b[0m\u001b[0m\n\u001b[1;32m    465\u001b[0m \u001b[0;34m\u001b[0m\u001b[0m\n",
      "\u001b[0;32m/Users/ricklicona/PycharmProjects/RExam/lib/python3.6/site-packages/mne/bem.py\u001b[0m in \u001b[0;36m_assert_inside\u001b[0;34m(fro, to)\u001b[0m\n\u001b[1;32m    450\u001b[0m     \u001b[0;32mif\u001b[0m \u001b[0;34m(\u001b[0m\u001b[0mnp\u001b[0m\u001b[0;34m.\u001b[0m\u001b[0mabs\u001b[0m\u001b[0;34m(\u001b[0m\u001b[0mtot_angle\u001b[0m \u001b[0;34m/\u001b[0m \u001b[0;34m(\u001b[0m\u001b[0;36m2\u001b[0m \u001b[0;34m*\u001b[0m \u001b[0mnp\u001b[0m\u001b[0;34m.\u001b[0m\u001b[0mpi\u001b[0m\u001b[0;34m)\u001b[0m \u001b[0;34m-\u001b[0m \u001b[0;36m1.0\u001b[0m\u001b[0;34m)\u001b[0m \u001b[0;34m>\u001b[0m \u001b[0;36m1e-5\u001b[0m\u001b[0;34m)\u001b[0m\u001b[0;34m.\u001b[0m\u001b[0many\u001b[0m\u001b[0;34m(\u001b[0m\u001b[0;34m)\u001b[0m\u001b[0;34m:\u001b[0m\u001b[0;34m\u001b[0m\u001b[0m\n\u001b[1;32m    451\u001b[0m         raise RuntimeError('Surface %s is not completely inside surface %s'\n\u001b[0;32m--> 452\u001b[0;31m                            % (_surf_name[fro['id']], _surf_name[to['id']]))\n\u001b[0m\u001b[1;32m    453\u001b[0m \u001b[0;34m\u001b[0m\u001b[0m\n\u001b[1;32m    454\u001b[0m \u001b[0;34m\u001b[0m\u001b[0m\n",
      "\u001b[0;31mRuntimeError\u001b[0m: Surface outer skull is not completely inside surface outer skin "
     ]
    }
   ],
   "source": [
    "run_bem(subject_id=6)"
   ]
  },
  {
   "cell_type": "markdown",
   "metadata": {},
   "source": [
    "##  <font color=\"orange\">RESULT FOR 1 LAYER (MEG)- SUBJECT 06 </font>"
   ]
  },
  {
   "cell_type": "code",
   "execution_count": 8,
   "metadata": {},
   "outputs": [
    {
     "name": "stdout",
     "output_type": "stream",
     "text": [
      "sub006\n",
      "/Users/ricklicona/Documents/GitHub/mne-biomag-group-demo/scripts/processing/library/../../../subjects\n",
      "/Users/ricklicona/Documents/GitHub/mne-biomag-group-demo/scripts/processing/library/../../../subjects/sub006/bem/sub006-5120-bem-3layers.fif\n",
      "/Users/ricklicona/Documents/GitHub/mne-biomag-group-demo/scripts/processing/library/../../../subjects/sub006/bem/sub006-5120-bem-sol-3layers.fif\n",
      "\n",
      "WRITING BEM SURFACES...\n",
      "Creating the BEM geometry...\n",
      "Going from 4th to 4th subdivision of an icosahedron (n_tri: 5120 -> 5120)\n",
      "inner skull CM is  -1.67  -7.24  13.91 mm\n",
      "Surfaces passed the basic topology checks.\n",
      "Complete.\n",
      "\n",
      "    1 BEM surfaces found\n",
      "    Reading a surface...\n",
      "[done]\n",
      "    1 BEM surfaces read\n",
      "\n",
      "MAKING BEM SOLUTION...\n",
      "Approximation method : Linear collocation\n",
      "\n",
      "Homogeneous model surface loaded.\n",
      "Computing the linear collocation solution...\n",
      "    Matrix coefficients...\n",
      "        inner skull (2562) -> inner skull (2562) ...\n",
      "    Inverting the coefficient matrix...\n",
      "Solution ready.\n",
      "BEM geometry computations complete.\n",
      "\n",
      "WRITING BEM SOLUTION...\n"
     ]
    }
   ],
   "source": [
    "run_bem_1(subject_id=6)"
   ]
  }
 ],
 "metadata": {
  "kernelspec": {
   "display_name": "Python 3",
   "language": "python",
   "name": "python3"
  },
  "language_info": {
   "codemirror_mode": {
    "name": "ipython",
    "version": 3
   },
   "file_extension": ".py",
   "mimetype": "text/x-python",
   "name": "python",
   "nbconvert_exporter": "python",
   "pygments_lexer": "ipython3",
   "version": "3.6.0"
  }
 },
 "nbformat": 4,
 "nbformat_minor": 1
}
